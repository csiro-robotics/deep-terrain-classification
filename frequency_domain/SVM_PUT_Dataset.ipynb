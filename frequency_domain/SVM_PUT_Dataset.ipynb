{
 "cells": [
  {
   "cell_type": "code",
   "execution_count": 1,
   "metadata": {
    "collapsed": true
   },
   "outputs": [],
   "source": [
    "import json\n",
    "import os\n",
    "import numpy as np\n",
    "import pandas as pd\n",
    "from scipy.io import loadmat\n",
    "from sklearn.model_selection import train_test_split, KFold\n",
    "from sklearn.utils import shuffle\n",
    "from sklearn.svm import SVC\n",
    "from sklearn.metrics import classification_report, confusion_matrix\n",
    "from sklearn import preprocessing"
   ]
  },
  {
   "cell_type": "code",
   "execution_count": 2,
   "metadata": {
    "collapsed": true
   },
   "outputs": [],
   "source": [
    "# Load the data, create the one-hot labels, and prepare the K-Fold Cross Validation\n",
    "CWD = os.getcwd()\n",
    "string = os.path.join(CWD, 'data/put.mat')\n",
    "all_data = loadmat(string) \n",
    "data_steps = all_data['features']\n",
    "data_steps_array = np.array(data_steps)\n",
    "data_labels = all_data['labels']\n",
    "data_labels_arr = np.array(data_labels)\n",
    "data_labels_arr = np.reshape(data_labels_arr, (data_labels_arr.shape[1]))\n",
    "\n",
    "# normalization of the data\n",
    "normed = preprocessing.scale(data_steps_array)    \n",
    "\n",
    "normed, data_labels_arr = shuffle(normed, data_labels_arr, random_state=47)\n",
    "\n",
    "# K-Fold Cross validation preparation\n",
    "n_split = 10 # 10-fold cross validation\n",
    "train_index = []\n",
    "test_index = []\n",
    "for train_ind,test_ind in KFold(n_split, random_state=47).split(normed):\n",
    "    train_index.append(train_ind)\n",
    "    test_index.append(test_ind)"
   ]
  },
  {
   "cell_type": "code",
   "execution_count": 3,
   "metadata": {},
   "outputs": [],
   "source": [
    "# train the Support Vector Machines for Frequency Features based on paper:\n",
    "# \"What am I touching? Learning to classify terrain via haptic sensing\"\n",
    "\n",
    "val_acc = {'{:1d}'.format(j):[] for j in range(n_split)}\n",
    "for i in range(n_split):\n",
    "    svclassifier = SVC(kernel='rbf')\n",
    "    x_train,x_test=normed[train_index[i]],normed[test_index[i]]\n",
    "    y_train,y_test=data_labels_arr[train_index[i]],data_labels_arr[test_index[i]]\n",
    "    svclassifier.fit(x_train, y_train)\n",
    "    y_val = svclassifier.predict(x_test)\n",
    "    tmp = classification_report(y_test,y_val)    \n",
    "    val_acc['{:1d}'.format(i)] = float(tmp[388:400])"
   ]
  },
  {
   "cell_type": "code",
   "execution_count": 4,
   "metadata": {},
   "outputs": [
    {
     "name": "stdout",
     "output_type": "stream",
     "text": [
      "mean accuracy:  66.10000000000001  std:  1.6401219466856718  min:  64.0  max:  69.0\n"
     ]
    }
   ],
   "source": [
    "# The final Report\n",
    "maxim = [np.max(val_acc['{:1d}'.format(i)]) for i in range(10)]\n",
    "\n",
    "print('mean accuracy: ', np.mean(maxim)*100, ' std: ',  np.std(maxim)*100, ' min: ', np.min(maxim)*100, ' max: ', np.max(maxim)*100)"
   ]
  },
  {
   "cell_type": "code",
   "execution_count": null,
   "metadata": {
    "collapsed": true
   },
   "outputs": [],
   "source": []
  }
 ],
 "metadata": {
  "kernelspec": {
   "display_name": "Python 3",
   "language": "python",
   "name": "python3"
  },
  "language_info": {
   "codemirror_mode": {
    "name": "ipython",
    "version": 3
   },
   "file_extension": ".py",
   "mimetype": "text/x-python",
   "name": "python",
   "nbconvert_exporter": "python",
   "pygments_lexer": "ipython3",
   "version": "3.6.3"
  }
 },
 "nbformat": 4,
 "nbformat_minor": 2
}
